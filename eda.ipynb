{
 "cells": [
  {
   "cell_type": "code",
   "execution_count": 12,
   "metadata": {},
   "outputs": [],
   "source": [
    "import os\n",
    "import json\n",
    "import pandas as pd\n",
    "import numpy as np\n",
    "import scipy\n",
    "import scipy.stats\n",
    "import requests"
   ]
  },
  {
   "cell_type": "code",
   "execution_count": 17,
   "metadata": {},
   "outputs": [],
   "source": [
    "class UserData():\n",
    "\n",
    "\n",
    "    def __init__(self):\n",
    "        #external data source is a todo\n",
    "        self.df = pd.read_csv(\"sample_data.csv\")\n",
    "        #must be converted to series\n",
    "        self.recent_run = self.df[self.df['End Timestamp'] == self.df['End Timestamp'].max()].iloc[0]\n",
    "        self.hard_attributes = ['Max. Elevation', 'Average Heart Rate', 'Calories', 'Elevation Gain', 'Elevation Loss']\n",
    "        self.how_good = ['Average Moving Speed', 'Moving Duration (h:m:s)', 'Temperature (Raw)']\n",
    "\n",
    "\n",
    "\n",
    "    def get_intent(self, intent, userName):\n",
    "        if intent in self.hard_attributes:\n",
    "            return self._ret_value(intent)\n",
    "        elif intent in self.how_good:\n",
    "            return self._compare(intent)\n",
    "        else:\n",
    "            return \"I could not find an answer\"\n",
    "\n",
    "\n",
    "\n",
    "    def _compare(self, intent):\n",
    "        res = scipy.stats.percentileofscore(self.df[intent], self.recent_run[intent])\n",
    "        if res > 0.95:\n",
    "            return \"extraordinary\"\n",
    "        elif res > 0.8:\n",
    "            return \"very good\"\n",
    "        elif res > 0.5:\n",
    "            return \"good\"\n",
    "        elif res > 0.3:\n",
    "            return \"try to better next time\"\n",
    "        else:\n",
    "            return \"this really wasnt your day\"\n",
    "\n",
    "\n",
    "    def _ret_value(self, val):\n",
    "        return self.most_recent[val]\n",
    "\n",
    "    def _progress(self, val):\n",
    "        #TODO\n",
    "        return True"
   ]
  },
  {
   "cell_type": "code",
   "execution_count": 18,
   "metadata": {},
   "outputs": [],
   "source": [
    "test = UserData()"
   ]
  },
  {
   "cell_type": "code",
   "execution_count": 19,
   "metadata": {},
   "outputs": [
    {
     "data": {
      "text/plain": [
       "'extraordinary'"
      ]
     },
     "execution_count": 19,
     "metadata": {},
     "output_type": "execute_result"
    }
   ],
   "source": [
    "test.get_intent('Average Moving Speed', 'bob')"
   ]
  },
  {
   "cell_type": "code",
   "execution_count": null,
   "metadata": {},
   "outputs": [],
   "source": []
  }
 ],
 "metadata": {
  "kernelspec": {
   "display_name": "Python 3",
   "language": "python",
   "name": "python3"
  },
  "language_info": {
   "codemirror_mode": {
    "name": "ipython",
    "version": 3
   },
   "file_extension": ".py",
   "mimetype": "text/x-python",
   "name": "python",
   "nbconvert_exporter": "python",
   "pygments_lexer": "ipython3",
   "version": "3.6.2"
  }
 },
 "nbformat": 4,
 "nbformat_minor": 2
}
